{
 "cells": [
  {
   "cell_type": "markdown",
   "metadata": {},
   "source": [
    "Question 10 -\n",
    "Write a program to count the number of verbs, nouns, pronouns, and adjectives in a given particular phrase or\n",
    "paragraph, and return their respective count as a dictionary.\n",
    "\n",
    "Note -\n",
    "1. Write code comments wherever required for code\n",
    "2. You have to write at least 2 additional test cases in which your program will run successfully and provide\n",
    "an explanation for the same."
   ]
  },
  {
   "cell_type": "code",
   "execution_count": 1,
   "metadata": {},
   "outputs": [
    {
     "name": "stdout",
     "output_type": "stream",
     "text": [
      "{'NOUN': 1, 'VERB': 1, 'PRON': 0, 'ADJ': 3}\n",
      "{'NOUN': 5, 'VERB': 3, 'PRON': 2, 'ADJ': 2}\n",
      "{'NOUN': 1, 'VERB': 2, 'PRON': 2, 'ADJ': 3}\n"
     ]
    }
   ],
   "source": [
    "import spacy\n",
    "\n",
    "def count_pos(text):\n",
    "    nlp = spacy.load(\"en_core_web_sm\")\n",
    "    doc = nlp(text)\n",
    "\n",
    "    # Initialize counts\n",
    "    counts = {\"NOUN\": 0, \"VERB\": 0, \"PRON\": 0, \"ADJ\": 0}\n",
    "\n",
    "    # Iterate over each token in the document\n",
    "    for token in doc:\n",
    "        pos_tag = token.pos_\n",
    "        if pos_tag in counts:\n",
    "            counts[pos_tag] += 1\n",
    "\n",
    "    return counts\n",
    "\n",
    "# Test case 1: Counting in a simple phrase\n",
    "text1 = \"The quick brown fox jumps over the lazy dog.\"\n",
    "result1 = count_pos(text1)\n",
    "print(result1)\n",
    "\n",
    "# Test case 2: Counting in a longer paragraph\n",
    "text2 = \"I am an AI language model. I can understand and generate human-like text. This is a test paragraph.\"\n",
    "result2 = count_pos(text2)\n",
    "print(result2)\n",
    "\n",
    "# Test case 3: Counting in a phrase with pronouns and adjectives\n",
    "text3 = \"She is tall, intelligent, and hardworking. He likes to play soccer.\"\n",
    "result3 = count_pos(text3)\n",
    "print(result3)\n"
   ]
  },
  {
   "cell_type": "code",
   "execution_count": null,
   "metadata": {},
   "outputs": [],
   "source": []
  },
  {
   "cell_type": "code",
   "execution_count": null,
   "metadata": {},
   "outputs": [],
   "source": []
  }
 ],
 "metadata": {
  "kernelspec": {
   "display_name": "Python 3",
   "language": "python",
   "name": "python3"
  },
  "language_info": {
   "codemirror_mode": {
    "name": "ipython",
    "version": 3
   },
   "file_extension": ".py",
   "mimetype": "text/x-python",
   "name": "python",
   "nbconvert_exporter": "python",
   "pygments_lexer": "ipython3",
   "version": "3.7.4"
  }
 },
 "nbformat": 4,
 "nbformat_minor": 2
}
