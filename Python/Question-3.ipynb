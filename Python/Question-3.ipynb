{
 "cells": [
  {
   "cell_type": "markdown",
   "metadata": {},
   "source": [
    "Question 3: -\n",
    "Write a program, which would download the data from the provided link, and then read the data and convert\n",
    "that into properly structured data and return it in Excel format.\n",
    "Note - Write comments wherever necessary explaining the code written.\n",
    "\n",
    "Link - https://raw.githubusercontent.com/Biuni/PokemonGO-Pokedex/master/pokedex.json\n",
    "\n",
    "Data Attributes - id: Identification Number - int num: Number of the\n",
    "● Pokémon in the official Pokédex - int name: Pokémon name -\n",
    "\n",
    "● string img: URL to an image of this Pokémon - string type:\n",
    "\n",
    "● Pokémon type -string height: Pokémon height - float\n",
    "● weight: Pokémon weight - float candy: type of candy used to evolve Pokémon or\n",
    "given\n",
    "\n",
    "● when transferred - string candy_count: the amount of candies required to evolve\n",
    "- int\n",
    "\n",
    "● egg: Number of kilometers to travel to hatch the egg - float spawn_chance:\n",
    "● Percentage of spawn chance (NEW) - float avg_spawns: Number of this\n",
    "pokemon on 10.000 spawns (NEW) - int\n",
    "\n",
    "● spawn_time: Spawns most active at the time on this field. Spawn times are the same for all\n",
    "time zones and are expressed in local time. (NEW) - “minutes: seconds” multipliers:\n",
    "Multiplier of Combat Power (CP) for calculating the CP after evolution See below - list of int\n",
    "weakness: Types of\n",
    "\n",
    "● Pokémon this Pokémon is weak to - list of strings next_evolution: Number and Name of\n",
    "successive evolutions of Pokémon - list of dict prev_evolution: Number and Name of previous\n",
    "evolutions of Pokémon - - list of dict"
   ]
  },
  {
   "cell_type": "code",
   "execution_count": 6,
   "metadata": {},
   "outputs": [
    {
     "name": "stdout",
     "output_type": "stream",
     "text": [
      "Data has been downloaded and saved as pokemon_data.xlsx\n"
     ]
    }
   ],
   "source": [
    "import pandas as pd\n",
    "import requests\n",
    "\n",
    "# Download the data from the provided link\n",
    "url = \"https://raw.githubusercontent.com/Biuni/PokemonGO-Pokedex/master/pokedex.json\"\n",
    "response = requests.get(url)\n",
    "data = response.json()\n",
    "\n",
    "# Extract relevant attributes from the data\n",
    "structured_data = []\n",
    "for pokemon in data[\"pokemon\"]:\n",
    "    multipliers = pokemon.get(\"multipliers\", [])\n",
    "    if isinstance(multipliers, list):\n",
    "        multipliers = \", \".join(str(m) for m in multipliers)\n",
    "    else:\n",
    "        multipliers = str(multipliers)\n",
    "    \n",
    "    attributes = {\n",
    "        \"id\": pokemon.get(\"id\"),\n",
    "        \"num\": pokemon.get(\"num\"),\n",
    "        \"name\": pokemon.get(\"name\"),\n",
    "        \"img\": pokemon.get(\"img\"),\n",
    "        \"type\": \", \".join(pokemon.get(\"type\", [])),\n",
    "        \"height\": pokemon.get(\"height\"),\n",
    "        \"weight\": pokemon.get(\"weight\"),\n",
    "        \"candy\": pokemon.get(\"candy\", \"\"),\n",
    "        \"candy_count\": pokemon.get(\"candy_count\", \"\"),\n",
    "        \"egg\": pokemon.get(\"egg\", \"\"),\n",
    "        \"spawn_chance\": pokemon.get(\"spawn_chance\", \"\"),\n",
    "        \"avg_spawns\": pokemon.get(\"avg_spawns\", \"\"),\n",
    "        \"spawn_time\": pokemon.get(\"spawn_time\", \"\"),\n",
    "        \"multipliers\": multipliers,\n",
    "        \"weakness\": \", \".join(pokemon.get(\"weaknesses\", []))\n",
    "    }\n",
    "    structured_data.append(attributes)\n",
    "\n",
    "# Create a DataFrame from the structured data\n",
    "df = pd.DataFrame(structured_data)\n",
    "\n",
    "# Save the DataFrame as an Excel file\n",
    "output_filename = \"pokemon_data.xlsx\"\n",
    "df.to_excel(output_filename, index=False)\n",
    "\n",
    "print(\"Data has been downloaded and saved as\", output_filename)\n"
   ]
  },
  {
   "cell_type": "code",
   "execution_count": null,
   "metadata": {},
   "outputs": [],
   "source": []
  },
  {
   "cell_type": "code",
   "execution_count": null,
   "metadata": {},
   "outputs": [],
   "source": []
  },
  {
   "cell_type": "code",
   "execution_count": null,
   "metadata": {},
   "outputs": [],
   "source": []
  },
  {
   "cell_type": "code",
   "execution_count": null,
   "metadata": {},
   "outputs": [],
   "source": []
  }
 ],
 "metadata": {
  "kernelspec": {
   "display_name": "Python 3",
   "language": "python",
   "name": "python3"
  },
  "language_info": {
   "codemirror_mode": {
    "name": "ipython",
    "version": 3
   },
   "file_extension": ".py",
   "mimetype": "text/x-python",
   "name": "python",
   "nbconvert_exporter": "python",
   "pygments_lexer": "ipython3",
   "version": "3.7.4"
  }
 },
 "nbformat": 4,
 "nbformat_minor": 2
}
