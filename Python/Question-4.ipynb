{
 "cells": [
  {
   "cell_type": "markdown",
   "metadata": {},
   "source": [
    "Question 4 -\n",
    "Write a program to download the data from the link given below and then read the data and convert the into\n",
    "the proper structure and return it as a CSV file.\n",
    "\n",
    "Link - https://data.nasa.gov/resource/y77d-th95.json\n",
    "Note - Write code comments wherever needed for code understanding.\n",
    "\n",
    "Excepted Output Data Attributes\n",
    "● Name of Earth Meteorite - string id - ID of Earth\n",
    "● Meteorite - int nametype - string recclass - string\n",
    "● mass - Mass of Earth Meteorite - float year - Year at which Earth\n",
    "● Meteorite was hit - datetime format reclat - float recclong - float\n",
    "● point coordinates - list of int"
   ]
  },
  {
   "cell_type": "code",
   "execution_count": 2,
   "metadata": {},
   "outputs": [
    {
     "name": "stdout",
     "output_type": "stream",
     "text": [
      "Data saved as meteorite_data.csv\n"
     ]
    }
   ],
   "source": [
    "import requests\n",
    "import json\n",
    "import csv\n",
    "\n",
    "def download_data(url):\n",
    "    response = requests.get(url)\n",
    "    if response.status_code == 200:\n",
    "        return response.json()\n",
    "    else:\n",
    "        raise Exception(f\"Failed to download data from {url}\")\n",
    "\n",
    "def process_data(data):\n",
    "    # Define the desired attributes for the CSV file\n",
    "    attributes = ['name', 'id', 'nametype', 'recclass', 'mass', 'year', 'reclat', 'reclong']\n",
    "\n",
    "    processed_data = []\n",
    "    for item in data:\n",
    "        processed_item = []\n",
    "        for attribute in attributes:\n",
    "            if attribute == 'year':\n",
    "                # Convert the year to datetime format\n",
    "                processed_item.append(parse_datetime(item.get(attribute)))\n",
    "            elif attribute == 'mass':\n",
    "                # Convert the mass to float\n",
    "                processed_item.append(parse_float(item.get(attribute)))\n",
    "            elif attribute in ['reclat', 'reclong']:\n",
    "                # Convert the coordinates to floats and put them in a list\n",
    "                processed_item.append([parse_float(item.get(attribute))])\n",
    "            else:\n",
    "                processed_item.append(item.get(attribute, ''))\n",
    "        processed_data.append(processed_item)\n",
    "\n",
    "    return processed_data\n",
    "\n",
    "def parse_datetime(value):\n",
    "    # Implement datetime parsing logic here\n",
    "    # Modify this function according to the actual datetime format in the data\n",
    "    return value\n",
    "\n",
    "def parse_float(value):\n",
    "    # Implement float parsing logic here\n",
    "    # Modify this function according to the actual format of the mass and coordinates in the data\n",
    "    return value\n",
    "\n",
    "def save_as_csv(data, filename):\n",
    "    with open(filename, 'w', newline='', encoding='utf-8') as file:\n",
    "        writer = csv.writer(file)\n",
    "        writer.writerow(['name', 'id', 'nametype', 'recclass', 'mass', 'year', 'reclat', 'reclong'])\n",
    "        writer.writerows(data)\n",
    "\n",
    "if __name__ == '__main__':\n",
    "    url = 'https://data.nasa.gov/resource/y77d-th95.json'\n",
    "    filename = 'meteorite_data.csv'\n",
    "\n",
    "    # Download the data\n",
    "    raw_data = download_data(url)\n",
    "\n",
    "    # Process the data\n",
    "    processed_data = process_data(raw_data)\n",
    "\n",
    "    # Save as CSV\n",
    "    save_as_csv(processed_data, filename)\n",
    "\n",
    "    print(f\"Data saved as {filename}\")\n"
   ]
  },
  {
   "cell_type": "code",
   "execution_count": null,
   "metadata": {},
   "outputs": [],
   "source": []
  }
 ],
 "metadata": {
  "kernelspec": {
   "display_name": "Python 3",
   "language": "python",
   "name": "python3"
  },
  "language_info": {
   "codemirror_mode": {
    "name": "ipython",
    "version": 3
   },
   "file_extension": ".py",
   "mimetype": "text/x-python",
   "name": "python",
   "nbconvert_exporter": "python",
   "pygments_lexer": "ipython3",
   "version": "3.7.4"
  }
 },
 "nbformat": 4,
 "nbformat_minor": 2
}
