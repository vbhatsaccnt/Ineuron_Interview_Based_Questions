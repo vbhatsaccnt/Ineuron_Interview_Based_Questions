{
 "cells": [
  {
   "cell_type": "markdown",
   "metadata": {},
   "source": [
    "Question 2: -\n",
    "Consider a string to be valid if all characters of the string appear the same number of times. It is also valid if\n",
    "he can remove just one character at the index in the string, and the remaining characters will occur the same\n",
    "number of times. Given a string, determine if it is valid. If so, return YES , otherwise return NO .\n",
    "\n",
    "Note - You have to write at least 2 additional test cases in which your program will run successfully and provide\n",
    "an explanation for the same.\n",
    "\n",
    "Example input 1 - s = “abc”. This is a valid string because frequencies are { “a”: 1, “b”: 1, “c”: 1 }\n",
    "Example output 1- YES\n",
    "\n",
    "Example input 2 - s “abcc”. This string is not valid as we can remove only 1 occurrence of “c”. That leaves\n",
    "character frequencies of { “a”: 1, “b”: 1 , “c”: 2 }\n",
    "Example output 2 - NO"
   ]
  },
  {
   "cell_type": "code",
   "execution_count": 1,
   "metadata": {},
   "outputs": [],
   "source": [
    "def is_valid_string(string):\n",
    "    # Count the frequency of each character\n",
    "    char_frequency = {}\n",
    "    for char in string:\n",
    "        char_frequency[char] = char_frequency.get(char, 0) + 1\n",
    "\n",
    "    # Find the maximum frequency\n",
    "    max_frequency = max(char_frequency.values())\n",
    "\n",
    "    # Count the number of characters with the maximum frequency\n",
    "    max_count = sum(1 for freq in char_frequency.values() if freq == max_frequency)\n",
    "\n",
    "    # Check if the string is already valid\n",
    "    if max_count == len(char_frequency):\n",
    "        return \"YES\"\n",
    "\n",
    "    # Check if removing one character can make the string valid\n",
    "    for char, freq in char_frequency.items():\n",
    "        if freq == max_frequency:\n",
    "            continue\n",
    "        if freq == 1 and max_count == len(char_frequency) - 1:\n",
    "            return \"YES\"\n",
    "\n",
    "    return \"NO\""
   ]
  },
  {
   "cell_type": "code",
   "execution_count": 3,
   "metadata": {},
   "outputs": [
    {
     "name": "stdout",
     "output_type": "stream",
     "text": [
      "YES\n",
      "NO\n",
      "NO\n",
      "YES\n"
     ]
    }
   ],
   "source": [
    "# Example 1\n",
    "string1 = \"abc\"\n",
    "print(is_valid_string(string1))  # Output: YES\n",
    "\n",
    "# Example 2\n",
    "string2 = \"aabbbccc\"\n",
    "print(is_valid_string(string2))  # Output: NO\n",
    "\n",
    "# Example 3\n",
    "string3 = \"aabbbcccc\"\n",
    "print(is_valid_string(string3))  # Output: NO\n",
    "\n",
    "# Example 4\n",
    "string4 = \"aabbc\"\n",
    "print(is_valid_string(string4))  # Output: YES"
   ]
  },
  {
   "cell_type": "code",
   "execution_count": null,
   "metadata": {},
   "outputs": [],
   "source": []
  }
 ],
 "metadata": {
  "kernelspec": {
   "display_name": "Python 3",
   "language": "python",
   "name": "python3"
  },
  "language_info": {
   "codemirror_mode": {
    "name": "ipython",
    "version": 3
   },
   "file_extension": ".py",
   "mimetype": "text/x-python",
   "name": "python",
   "nbconvert_exporter": "python",
   "pygments_lexer": "ipython3",
   "version": "3.7.4"
  }
 },
 "nbformat": 4,
 "nbformat_minor": 2
}
