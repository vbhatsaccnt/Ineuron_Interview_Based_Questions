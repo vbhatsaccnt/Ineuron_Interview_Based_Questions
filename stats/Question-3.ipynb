{
 "cells": [
  {
   "cell_type": "code",
   "execution_count": 26,
   "metadata": {},
   "outputs": [
    {
     "name": "stdout",
     "output_type": "stream",
     "text": [
      "    Patient ID  Blood Pressure Before  Blood Pressure After\n",
      "0            1                    130                   120\n",
      "1            2                    142                   135\n",
      "2            3                    120                   118\n",
      "3            4                    135                   127\n",
      "4            5                    148                   140\n",
      "..         ...                    ...                   ...\n",
      "95          96                    136                   129\n",
      "96          97                    143                   137\n",
      "97          98                    127                   123\n",
      "98          99                    139                   135\n",
      "99         100                    135                   130\n",
      "\n",
      "[100 rows x 3 columns]\n"
     ]
    }
   ],
   "source": [
    "import pandas as pd\n",
    "\n",
    "# Load the data from the CSV file\n",
    "data = pd.read_csv(\"data.csv\")\n",
    "\n",
    "# Display the data\n",
    "print(data)"
   ]
  },
  {
   "cell_type": "code",
   "execution_count": 28,
   "metadata": {},
   "outputs": [
    {
     "name": "stdout",
     "output_type": "stream",
     "text": [
      "Dispersion (Blood Pressure Before):\n",
      "Standard Deviation: 6.6\n",
      "Range: 28\n",
      "\n",
      "Dispersion (Blood Pressure After):\n",
      "Standard Deviation: 6.89\n",
      "Range: 23\n"
     ]
    }
   ],
   "source": [
    "\n",
    "# Measure the dispersion in both columns\n",
    "blood_pressure_before = data['Blood Pressure Before']\n",
    "blood_pressure_after = data['Blood Pressure After']\n",
    "\n",
    "# Calculate the standard deviation for both columns\n",
    "std_dev_before = blood_pressure_before.std()\n",
    "std_dev_after = blood_pressure_after.std()\n",
    "\n",
    "# Calculate the range for both columns\n",
    "range_before = blood_pressure_before.max() - blood_pressure_before.min()\n",
    "range_after = blood_pressure_after.max() - blood_pressure_after.min()\n",
    "\n",
    "# Interpret the results\n",
    "print(\"Dispersion (Blood Pressure Before):\")\n",
    "print(\"Standard Deviation:\", round(std_dev_before, 2))\n",
    "print(\"Range:\", range_before)\n",
    "print()\n",
    "\n",
    "print(\"Dispersion (Blood Pressure After):\")\n",
    "print(\"Standard Deviation:\", round(std_dev_after, 2))\n",
    "print(\"Range:\", range_after)\n"
   ]
  },
  {
   "cell_type": "code",
   "execution_count": 30,
   "metadata": {},
   "outputs": [
    {
     "data": {
      "image/png": "[encoded data removed]",
      "text/plain": [
       "<Figure size 432x288 with 1 Axes>"
      ]
     },
     "metadata": {
      "needs_background": "light"
     },
     "output_type": "display_data"
    }
   ],
   "source": [
    "import pandas as pd\n",
    "import matplotlib.pyplot as plt\n",
    "import seaborn as sns\n",
    "import numpy as np\n",
    "from scipy import stats\n",
    "\n",
    "# Calculate the mean for both columns\n",
    "mean_before = data['Blood Pressure Before'].mean()\n",
    "mean_after = data['Blood Pressure After'].mean()\n",
    "\n",
    "# Calculate the 5% confidence interval for both columns\n",
    "conf_interval_before = stats.t.interval(0.95, len(data['Blood Pressure Before'])-1, loc=mean_before, scale=stats.sem(data['Blood Pressure Before']))\n",
    "conf_interval_after = stats.t.interval(0.95, len(data['Blood Pressure After'])-1, loc=mean_after, scale=stats.sem(data['Blood Pressure After']))\n",
    "\n",
    "# Plotting the mean and confidence intervals\n",
    "fig, ax = plt.subplots()\n",
    "sns.pointplot(x=['Blood Pressure Before', 'Blood Pressure After'], y=[mean_before, mean_after], ax=ax, color='blue', markers='o')\n",
    "ax.errorbar(x=['Blood Pressure Before', 'Blood Pressure After'], y=[mean_before, mean_after], yerr=[mean_before - conf_interval_before[0], mean_after - conf_interval_after[0]], fmt='none', ecolor='black', capsize=5)\n",
    "\n",
    "# Adding labels and title to the plot\n",
    "ax.set_xlabel('Measurement')\n",
    "ax.set_ylabel('Mean')\n",
    "ax.set_title('Mean and 5% Confidence Interval')\n",
    "\n",
    "# Display the plot\n",
    "plt.show()\n"
   ]
  },
  {
   "cell_type": "code",
   "execution_count": 31,
   "metadata": {},
   "outputs": [
    {
     "name": "stdout",
     "output_type": "stream",
     "text": [
      "Mean Absolute Deviation (MAD):\n",
      "Blood Pressure Before: 5.7118\n",
      "Blood Pressure After: 5.9\n",
      "\n",
      "Standard Deviation (SD):\n",
      "Blood Pressure Before: 6.598278012275075\n",
      "Blood Pressure After: 6.8880221025232276\n"
     ]
    }
   ],
   "source": [
    "# Calculate the Mean Absolute Deviation (MAD) for both columns\n",
    "mad_before = np.mean(np.abs(data['Blood Pressure Before'] - data['Blood Pressure Before'].mean()))\n",
    "mad_after = np.mean(np.abs(data['Blood Pressure After'] - data['Blood Pressure After'].mean()))\n",
    "\n",
    "# Calculate the Standard Deviation (SD) for both columns\n",
    "sd_before = data['Blood Pressure Before'].std()\n",
    "sd_after = data['Blood Pressure After'].std()\n",
    "\n",
    "# Print the results\n",
    "print(\"Mean Absolute Deviation (MAD):\")\n",
    "print(\"Blood Pressure Before:\", mad_before)\n",
    "print(\"Blood Pressure After:\", mad_after)\n",
    "print()\n",
    "print(\"Standard Deviation (SD):\")\n",
    "print(\"Blood Pressure Before:\", sd_before)\n",
    "print(\"Blood Pressure After:\", sd_after)\n"
   ]
  },
  {
   "cell_type": "markdown",
   "metadata": {},
   "source": [
    "Interpretation of the results:\n",
    "\n",
    "The MAD for 'Blood Pressure Before' represents the average absolute deviation of each data point from the mean of that column. A higher MAD value indicates a higher average variability or dispersion in the 'Blood Pressure Before' measurements.\n",
    "\n",
    "The MAD for 'Blood Pressure After' represents the average absolute deviation of each data point from the mean of that column. A higher MAD value indicates a higher average variability or dispersion in the 'Blood Pressure After' measurements.\n",
    "\n",
    "The SD for 'Blood Pressure Before' represents the standard deviation of the 'Blood Pressure Before' measurements. It provides a measure of the spread or dispersion of the data points around the mean. A higher SD value indicates a higher degree of variability in the 'Blood Pressure Before' measurements.\n",
    "\n",
    "The SD for 'Blood Pressure After' represents the standard deviation of the 'Blood Pressure After' measurements. It provides a measure of the spread or dispersion of the data points around the mean. A higher SD value indicates a higher degree of variability in the 'Blood Pressure After' measurements."
   ]
  },
  {
   "cell_type": "code",
   "execution_count": 34,
   "metadata": {},
   "outputs": [
    {
     "name": "stdout",
     "output_type": "stream",
     "text": [
      "Correlation Coefficient: 0.9779485966556021\n",
      "p-value: 1.8097381433059708e-68\n",
      "The correlation coefficient is statistically significant at the 1% level.\n"
     ]
    }
   ],
   "source": [
    "import pandas as pd\n",
    "from scipy.stats import pearsonr\n",
    "\n",
    "# Calculate the correlation coefficient and p-value\n",
    "corr_coef, p_value = pearsonr(data['Blood Pressure Before'], data['Blood Pressure After'])\n",
    "\n",
    "# Print the results\n",
    "print(\"Correlation Coefficient:\", corr_coef)\n",
    "print(\"p-value:\", p_value)\n",
    "\n",
    "# Check the significance at the 1% level\n",
    "alpha = 0.01\n",
    "if p_value < alpha:\n",
    "    print(\"The correlation coefficient is statistically significant at the 1% level.\")\n",
    "else:\n",
    "    print(\"The correlation coefficient is not statistically significant at the 1% level.\")\n"
   ]
  },
  {
   "cell_type": "code",
   "execution_count": null,
   "metadata": {},
   "outputs": [],
   "source": []
  },
  {
   "cell_type": "code",
   "execution_count": null,
   "metadata": {},
   "outputs": [],
   "source": []
  },
  {
   "cell_type": "code",
   "execution_count": null,
   "metadata": {},
   "outputs": [],
   "source": []
  }
 ],
 "metadata": {
  "kernelspec": {
   "display_name": "Python 3",
   "language": "python",
   "name": "python3"
  },
  "language_info": {
   "codemirror_mode": {
    "name": "ipython",
    "version": 3
   },
   "file_extension": ".py",
   "mimetype": "text/x-python",
   "name": "python",
   "nbconvert_exporter": "python",
   "pygments_lexer": "ipython3",
   "version": "3.7.4"
  }
 },
 "nbformat": 4,
 "nbformat_minor": 2
}
