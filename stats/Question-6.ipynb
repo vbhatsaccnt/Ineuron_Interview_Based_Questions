{
 "cells": [
  {
   "cell_type": "code",
   "execution_count": null,
   "metadata": {},
   "outputs": [],
   "source": []
  },
  {
   "cell_type": "code",
   "execution_count": 5,
   "metadata": {},
   "outputs": [
    {
     "data": {
      "text/plain": [
       "(array([ 2.,  3.,  1.,  3.,  5.,  8.,  2., 12., 22., 19.,  8.,  4.,  1.,\n",
       "         4.,  1.,  2.,  0.,  2.,  1.]),\n",
       " array([-24.        , -21.94736842, -19.89473684, -17.84210526,\n",
       "        -15.78947368, -13.73684211, -11.68421053,  -9.63157895,\n",
       "         -7.57894737,  -5.52631579,  -3.47368421,  -1.42105263,\n",
       "          0.63157895,   2.68421053,   4.73684211,   6.78947368,\n",
       "          8.84210526,  10.89473684,  12.94736842,  15.        ]),\n",
       " <a list of 19 Patch objects>)"
      ]
     },
     "execution_count": 5,
     "metadata": {},
     "output_type": "execute_result"
    },
    {
     "data": {
      "image/png": "[encoded data removed]",
      "text/plain": [
       "<Figure size 432x288 with 1 Axes>"
      ]
     },
     "metadata": {
      "needs_background": "light"
     },
     "output_type": "display_data"
    }
   ],
   "source": [
    "import matplotlib.pyplot as plt\n",
    "import scipy.stats as stats\n",
    "\n",
    "# Blood pressure data (before and after)\n",
    "bp_before = [130, 142, 120, 135, 148, 122, 137, 130, 142, 128, 135, 140, 132, 145, 124, 128, 136, 143, 127, 139,\n",
    "             135, 131, 127, 130, 142, 128, 136, 140, 132, 145, 124, 128, 136, 143, 127, 139, 135, 131, 127, 130,\n",
    "             142, 128, 136, 140, 132, 145, 124, 128, 136, 143, 127, 139, 135, 131, 127, 130, 142, 128, 136, 140,\n",
    "             132, 145, 124, 128, 136, 143, 127, 139, 135, 131, 127, 130, 142, 128, 136, 140, 132, 145, 124, 128,\n",
    "             136, 143, 127, 139, 135, 131, 127, 130, 142, 128, 136, 140, 132, 145, 124, 128, 136, 143, 127, 139,\n",
    "             135, 131, 127, 130]\n",
    "\n",
    "bp_after = [120, 135, 118, 127, 140, 118, 129, 124, 137, 125, 129, 132, 125, 136, 118, 122, 130, 139, 123, 132,\n",
    "            131, 126, 120, 123, 139, 122, 129, 136, 127, 140, 119, 121, 129, 137, 122, 135, 129, 124, 119, 124,\n",
    "            139, 123, 131, 135, 130, 125, 121, 124, 123, 121, 124, 139, 123, 131, 135, 130, 125, 121, 124, 123,\n",
    "            121, 124, 139, 123, 131, 135, 130, 125, 121, 124, 123, 121, 124, 139, 123, 131, 135, 130, 125, 121,\n",
    "            124, 123, 121, 124, 139, 123, 131, 135, 130, 125, 121, 124, 123, 121, 124, 139, 123, 131, 135, 130]\n",
    "\n",
    "# Calculate the change in blood pressure\n",
    "bp_change = [after - before for before, after in zip(bp_before, bp_after)]\n",
    "\n",
    "# Plotting histogram\n",
    "plt.hist(bp_change, bins='auto', alpha=0.05)\n"
   ]
  },
  {
   "cell_type": "code",
   "execution_count": 6,
   "metadata": {},
   "outputs": [
    {
     "data": {
      "application/javascript": [
       "\n",
       "        if (window._pyforest_update_imports_cell) { window._pyforest_update_imports_cell('import numpy as np'); }\n",
       "    "
      ],
      "text/plain": [
       "<IPython.core.display.Javascript object>"
      ]
     },
     "metadata": {},
     "output_type": "display_data"
    },
    {
     "data": {
      "application/javascript": [
       "\n",
       "        if (window._pyforest_update_imports_cell) { window._pyforest_update_imports_cell('import numpy as np'); }\n",
       "    "
      ],
      "text/plain": [
       "<IPython.core.display.Javascript object>"
      ]
     },
     "metadata": {},
     "output_type": "display_data"
    },
    {
     "data": {
      "application/javascript": [
       "\n",
       "        if (window._pyforest_update_imports_cell) { window._pyforest_update_imports_cell('import numpy as np'); }\n",
       "    "
      ],
      "text/plain": [
       "<IPython.core.display.Javascript object>"
      ]
     },
     "metadata": {},
     "output_type": "display_data"
    },
    {
     "data": {
      "image/png": "[encoded data removed]",
      "text/plain": [
       "<Figure size 432x288 with 1 Axes>"
      ]
     },
     "metadata": {
      "needs_background": "light"
     },
     "output_type": "display_data"
    }
   ],
   "source": [
    "import seaborn as sns\n",
    "import matplotlib.pyplot as plt\n",
    "import scipy.stats as stats\n",
    "\n",
    "# Calculate the change in blood pressure\n",
    "bp_change = [after - before for before, after in zip(bp_before, bp_after)]\n",
    "\n",
    "# Plotting histogram\n",
    "plt.hist(bp_change, bins='auto', alpha=0.7, density=True, edgecolor='black')\n",
    "plt.xlabel(\"Change in Blood Pressure (mmHg)\")\n",
    "plt.ylabel(\"Density\")\n",
    "plt.title(\"Histogram of Change in Blood Pressure\")\n",
    "\n",
    "# Plotting normal distribution curve\n",
    "mu = np.mean(bp_change)\n",
    "sigma = np.std(bp_change)\n",
    "x = np.linspace(mu - 3 * sigma, mu + 3 * sigma, 100)\n",
    "plt.plot(x, stats.norm.pdf(x, mu, sigma), color='red', label='Normal Distribution')\n",
    "\n",
    "# Show the legend\n",
    "plt.legend()\n",
    "\n",
    "# Display the plot\n",
    "plt.show()\n"
   ]
  },
  {
   "cell_type": "code",
   "execution_count": 7,
   "metadata": {},
   "outputs": [
    {
     "name": "stdout",
     "output_type": "stream",
     "text": [
      "Wilcoxon signed-rank test:\n",
      "Statistic: 0.0\n",
      "p-value: 0.001953125\n"
     ]
    }
   ],
   "source": [
    "import scipy.stats as stats\n",
    "\n",
    "# Anxiety level data\n",
    "before_therapy = [10, 8,12, 15, 6, 9, 11, 7, 14, 10]\n",
    "after_therapy = [7, 6, 10, 12, 5, 8, 9, 6, 12, 8]\n",
    "difference = [-3, -2, -2, -3, -1, -1, -2, -1, -2, -2]\n",
    "\n",
    "# Perform Wilcoxon signed-rank test\n",
    "statistic, p_value = stats.wilcoxon(difference)\n",
    "\n",
    "# Print the results\n",
    "print(\"Wilcoxon signed-rank test:\")\n",
    "print(\"Statistic:\", statistic)\n",
    "print(\"p-value:\", p_value)\n"
   ]
  },
  {
   "cell_type": "code",
   "execution_count": 9,
   "metadata": {},
   "outputs": [
    {
     "name": "stdout",
     "output_type": "stream",
     "text": [
      "One-way ANOVA test:\n",
      "Statistic: 0.3236947791164659\n",
      "p-value: 0.7295954253321559\n",
      "Fail to reject the null hypothesis.\n",
      "The means of all the groups are not significantly different.\n"
     ]
    }
   ],
   "source": [
    "import scipy.stats as stats\n",
    "\n",
    "# Scores of students in multiple exams\n",
    "exam1 = [85, 70, 90, 75, 95]\n",
    "exam2 = [90, 80, 85, 70, 92]\n",
    "exam3 = [92, 85, 88, 75, 96]\n",
    "\n",
    "# Perform one-way ANOVA test\n",
    "statistic, p_value = stats.f_oneway(exam1, exam2, exam3)\n",
    "\n",
    "# Print the results\n",
    "alpha = 0.05\n",
    "print(\"One-way ANOVA test:\")\n",
    "print(\"Statistic:\", statistic)\n",
    "print(\"p-value:\", p_value)\n",
    "\n",
    "if p_value > alpha:\n",
    "    print(\"Fail to reject the null hypothesis.\")\n",
    "    print(\"The means of all the groups are not significantly different.\")\n",
    "else:\n",
    "    print(\"Reject the null hypothesis.\")\n",
    "    print(\"There are significant differences in the means among the groups.\")"
   ]
  },
  {
   "cell_type": "markdown",
   "metadata": {},
   "source": []
  },
  {
   "cell_type": "code",
   "execution_count": null,
   "metadata": {},
   "outputs": [],
   "source": []
  },
  {
   "cell_type": "code",
   "execution_count": 10,
   "metadata": {},
   "outputs": [
    {
     "name": "stdout",
     "output_type": "stream",
     "text": [
      "Probability that exactly 20 bulbs are defective: 0.051616192536642215\n",
      "Probability that at least 10 bulbs are defective: 0.9998316463654902\n",
      "Probability that at most 15 bulbs are defective: 0.01985837716299813\n",
      "Expected number of defective bulbs in a batch of 500: 25.0\n"
     ]
    }
   ],
   "source": [
    "import scipy.stats as stats\n",
    "\n",
    "n = 500  # Total number of bulbs\n",
    "k = 20   # Number of defective bulbs\n",
    "p = 0.05 # Probability of a bulb being defective\n",
    "\n",
    "probability = stats.binom.pmf(k, n, p)\n",
    "print(\"Probability that exactly 20 bulbs are defective:\", probability)\n",
    "\n",
    "probability = 1 - stats.binom.cdf(9, n, p)\n",
    "print(\"Probability that at least 10 bulbs are defective:\", probability)\n",
    "\n",
    "probability = stats.binom.cdf(15, n, p)\n",
    "print(\"Probability that at most 15 bulbs are defective:\", probability)\n",
    "\n",
    "expected_defective = n * p\n",
    "print(\"Expected number of defective bulbs in a batch of 500:\", expected_defective)\n"
   ]
  },
  {
   "cell_type": "code",
   "execution_count": null,
   "metadata": {},
   "outputs": [],
   "source": []
  }
 ],
 "metadata": {
  "kernelspec": {
   "display_name": "Python 3",
   "language": "python",
   "name": "python3"
  },
  "language_info": {
   "codemirror_mode": {
    "name": "ipython",
    "version": 3
   },
   "file_extension": ".py",
   "mimetype": "text/x-python",
   "name": "python",
   "nbconvert_exporter": "python",
   "pygments_lexer": "ipython3",
   "version": "3.7.4"
  }
 },
 "nbformat": 4,
 "nbformat_minor": 2
}
