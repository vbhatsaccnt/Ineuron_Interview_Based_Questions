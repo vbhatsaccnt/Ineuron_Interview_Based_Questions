{
 "cells": [
  {
   "cell_type": "code",
   "execution_count": 1,
   "metadata": {},
   "outputs": [],
   "source": [
    "import pandas as pd\n",
    "import matplotlib.pyplot as plt\n"
   ]
  },
  {
   "cell_type": "code",
   "execution_count": 2,
   "metadata": {},
   "outputs": [],
   "source": [
    "data = pd.read_csv('data.csv')\n"
   ]
  },
  {
   "cell_type": "code",
   "execution_count": 5,
   "metadata": {},
   "outputs": [],
   "source": [
    "# Rename the columns\n",
    "data = data.rename(columns={'Blood Pressure Before (mmHg)': 'Before', 'Blood Pressure After (mmHg)': 'After'})"
   ]
  },
  {
   "cell_type": "code",
   "execution_count": 8,
   "metadata": {},
   "outputs": [
    {
     "data": {
      "text/plain": [
       "Index(['Patient ID', 'Blood Pressure Before', 'Blood Pressure After'], dtype='object')"
      ]
     },
     "execution_count": 8,
     "metadata": {},
     "output_type": "execute_result"
    }
   ],
   "source": [
    "data.columns"
   ]
  },
  {
   "cell_type": "code",
   "execution_count": 9,
   "metadata": {},
   "outputs": [],
   "source": [
    "data['Blood Pressure Difference'] = data['Blood Pressure Before'] - data['Blood Pressure After']\n"
   ]
  },
  {
   "cell_type": "code",
   "execution_count": 10,
   "metadata": {},
   "outputs": [
    {
     "data": {
      "image/png": "[encoded data removed]",
      "text/plain": [
       "<Figure size 432x288 with 1 Axes>"
      ]
     },
     "metadata": {
      "needs_background": "light"
     },
     "output_type": "display_data"
    }
   ],
   "source": [
    "plt.hist(data['Blood Pressure Difference'], bins=5, edgecolor='black')\n",
    "plt.xlabel('Blood Pressure Difference (mmHg)')\n",
    "plt.ylabel('Frequency')\n",
    "plt.title('Distribution of Blood Pressure Differences')\n",
    "plt.show()\n"
   ]
  },
  {
   "cell_type": "code",
   "execution_count": 11,
   "metadata": {},
   "outputs": [
    {
     "name": "stdout",
     "output_type": "stream",
     "text": [
      "Levene's Test - p-value:  0.6715080090945376\n"
     ]
    }
   ],
   "source": [
    "from scipy.stats import levene\n",
    "\n",
    "# Extract the blood pressure data before and after treatment\n",
    "bp_before = data['Blood Pressure Before']\n",
    "bp_after = data['Blood Pressure After']\n",
    "\n",
    "# Perform Levene's test for equality of variances\n",
    "statistic, p_value = levene(bp_before, bp_after)\n",
    "\n",
    "# Print the test results\n",
    "print(\"Levene's Test - p-value: \", p_value)\n"
   ]
  },
  {
   "cell_type": "markdown",
   "metadata": {},
   "source": [
    " it suggests that there is no significant difference in variances between the two groups."
   ]
  },
  {
   "cell_type": "markdown",
   "metadata": {},
   "source": [
    "**Which amount LDA and QDA would perform better on this data for\n",
    "classification and why.**"
   ]
  },
  {
   "cell_type": "markdown",
   "metadata": {},
   "source": [
    "To determine whether Linear Discriminant Analysis (LDA) or Quadratic Discriminant Analysis (QDA) would perform better for classification on this data, we need to consider the assumptions and characteristics of each method.\n",
    "\n",
    "LDA assumes that the classes have equal covariance matrices and that the predictors are normally distributed within each class. It finds linear boundaries to separate the classes. QDA, on the other hand, relaxes the assumption of equal covariance matrices and allows each class to have its own covariance matrix. It can capture more complex relationships and can find nonlinear boundaries.\n",
    "\n",
    "Based on the given information, we don't have detailed knowledge about the nature of the data or the specific problem we are trying to solve. However, we can make some general observations:\n",
    "\n",
    "1. If the classes have similar covariance matrices and the predictors are approximately normally distributed within each class, LDA is likely to perform well. LDA can efficiently use linear boundaries to separate the classes and tends to be more robust when the number of predictors is large compared to the number of observations.\n",
    "\n",
    "2. If the classes have different covariance matrices or the relationship between predictors and classes is nonlinear, QDA may perform better. QDA can capture more complex relationships and can adapt better to varying covariance structures within classes.\n",
    "\n",
    "To determine which method would perform better on this data, it is recommended to perform an empirical evaluation using cross-validation or other evaluation techniques. By splitting the data into training and test sets, you can train and evaluate LDA and QDA models and compare their performance metrics, such as accuracy, precision, recall, or F1 score. The method that provides better performance on the evaluation metrics would be preferred for classification on this specific data.\n",
    "\n",
    "It's important to note that the performance of LDA and QDA can vary depending on the characteristics of the data, the distribution of classes, and the specific classification problem at hand. Therefore, empirical evaluation is crucial for making an informed decision.\n",
    "\n",
    "If you have more details about the problem or specific requirements, I can provide further guidance or help you with the implementation in Python."
   ]
  },
  {
   "cell_type": "markdown",
   "metadata": {},
   "source": [
    "**Check the equality of mean for between all the classes**"
   ]
  },
  {
   "cell_type": "code",
   "execution_count": 13,
   "metadata": {},
   "outputs": [
    {
     "name": "stdout",
     "output_type": "stream",
     "text": [
      "T-test - p-value:  2.3565868442709904e-08\n"
     ]
    }
   ],
   "source": [
    "from scipy.stats import ttest_ind\n",
    "\n",
    "# Extract the blood pressure data for the two groups\n",
    "group1 = data['Blood Pressure Before']\n",
    "group2 = data['Blood Pressure After']\n",
    "\n",
    "# Perform independent t-test\n",
    "statistic, p_value = ttest_ind(group1, group2)\n",
    "\n",
    "# Print the test results\n",
    "print(\"T-test - p-value: \", p_value)\n"
   ]
  },
  {
   "cell_type": "markdown",
   "metadata": {},
   "source": [
    "it suggests that there is a significant difference in the means between the two groups (before and after treatment)."
   ]
  },
  {
   "cell_type": "code",
   "execution_count": null,
   "metadata": {},
   "outputs": [],
   "source": []
  },
  {
   "cell_type": "code",
   "execution_count": null,
   "metadata": {},
   "outputs": [],
   "source": []
  }
 ],
 "metadata": {
  "kernelspec": {
   "display_name": "Python 3",
   "language": "python",
   "name": "python3"
  },
  "language_info": {
   "codemirror_mode": {
    "name": "ipython",
    "version": 3
   },
   "file_extension": ".py",
   "mimetype": "text/x-python",
   "name": "python",
   "nbconvert_exporter": "python",
   "pygments_lexer": "ipython3",
   "version": "3.7.4"
  }
 },
 "nbformat": 4,
 "nbformat_minor": 2
}
