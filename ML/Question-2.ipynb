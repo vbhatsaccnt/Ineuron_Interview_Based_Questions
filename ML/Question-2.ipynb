{
 "cells": [
  {
   "cell_type": "code",
   "execution_count": 1,
   "metadata": {},
   "outputs": [],
   "source": [
    "#Step 1: Import the required libraries\n",
    "import pandas as pd\n",
    "from sklearn.model_selection import train_test_split\n",
    "from sklearn.preprocessing import LabelEncoder\n",
    "from sklearn.linear_model import LogisticRegression\n",
    "from sklearn.tree import DecisionTreeClassifier\n",
    "from sklearn.ensemble import RandomForestClassifier\n",
    "from sklearn.svm import SVC\n",
    "from sklearn.metrics import accuracy_score, classification_report\n"
   ]
  },
  {
   "cell_type": "code",
   "execution_count": 2,
   "metadata": {},
   "outputs": [],
   "source": [
    "# Load the dataset\n",
    "data = pd.read_csv('ObesityDataSet_raw_and_data_sinthetic.csv')"
   ]
  },
  {
   "cell_type": "code",
   "execution_count": 4,
   "metadata": {},
   "outputs": [
    {
     "data": {
      "text/plain": [
       "Gender                             object\n",
       "Age                               float64\n",
       "Height                            float64\n",
       "Weight                            float64\n",
       "family_history_with_overweight     object\n",
       "FAVC                               object\n",
       "FCVC                              float64\n",
       "NCP                               float64\n",
       "CAEC                               object\n",
       "SMOKE                              object\n",
       "CH2O                              float64\n",
       "SCC                                object\n",
       "FAF                               float64\n",
       "TUE                               float64\n",
       "CALC                               object\n",
       "MTRANS                             object\n",
       "NObeyesdad                         object\n",
       "dtype: object"
      ]
     },
     "execution_count": 4,
     "metadata": {},
     "output_type": "execute_result"
    }
   ],
   "source": [
    "data.dtypes"
   ]
  },
  {
   "cell_type": "code",
   "execution_count": 5,
   "metadata": {},
   "outputs": [],
   "source": [
    "# Split the dataset into features (X) and target (y)\n",
    "X = data.drop('NObeyesdad', axis=1)  # Features\n",
    "y = data['NObeyesdad']  # Target variable"
   ]
  },
  {
   "cell_type": "code",
   "execution_count": 6,
   "metadata": {},
   "outputs": [],
   "source": [
    "# Encode categorical features using LabelEncoder\n",
    "label_encoder = LabelEncoder()\n",
    "X['Gender'] = label_encoder.fit_transform(X['Gender'])\n",
    "X['family_history_with_overweight'] = label_encoder.fit_transform(X['family_history_with_overweight'])\n",
    "X['FAVC'] = label_encoder.fit_transform(X['FAVC'])\n",
    "X['CAEC'] = label_encoder.fit_transform(X['CAEC'])\n",
    "X['SMOKE'] = label_encoder.fit_transform(X['SMOKE'])\n",
    "X['SCC'] = label_encoder.fit_transform(X['SCC'])\n",
    "X['CALC'] = label_encoder.fit_transform(X['CALC'])\n",
    "X['MTRANS'] = label_encoder.fit_transform(X['MTRANS'])"
   ]
  },
  {
   "cell_type": "code",
   "execution_count": 7,
   "metadata": {},
   "outputs": [],
   "source": [
    "# Split the dataset into training and testing sets\n",
    "X_train, X_test, y_train, y_test = train_test_split(X, y, test_size=0.2, random_state=42)"
   ]
  },
  {
   "cell_type": "code",
   "execution_count": 8,
   "metadata": {},
   "outputs": [
    {
     "name": "stdout",
     "output_type": "stream",
     "text": [
      "Logistic Regression Accuracy: 0.6548463356973995\n",
      "                     precision    recall  f1-score   support\n",
      "\n",
      "Insufficient_Weight       0.74      0.93      0.83        56\n",
      "      Normal_Weight       0.53      0.42      0.47        62\n",
      "     Obesity_Type_I       0.58      0.60      0.59        78\n",
      "    Obesity_Type_II       0.82      0.84      0.83        58\n",
      "   Obesity_Type_III       0.90      1.00      0.95        63\n",
      " Overweight_Level_I       0.54      0.38      0.44        56\n",
      "Overweight_Level_II       0.35      0.38      0.37        50\n",
      "\n",
      "           accuracy                           0.65       423\n",
      "          macro avg       0.64      0.65      0.64       423\n",
      "       weighted avg       0.64      0.65      0.64       423\n",
      "\n"
     ]
    },
    {
     "name": "stderr",
     "output_type": "stream",
     "text": [
      "C:\\Users\\viksb\\Anaconda3\\lib\\site-packages\\sklearn\\linear_model\\_logistic.py:764: ConvergenceWarning: lbfgs failed to converge (status=1):\n",
      "STOP: TOTAL NO. of ITERATIONS REACHED LIMIT.\n",
      "\n",
      "Increase the number of iterations (max_iter) or scale the data as shown in:\n",
      "    https://scikit-learn.org/stable/modules/preprocessing.html\n",
      "Please also refer to the documentation for alternative solver options:\n",
      "    https://scikit-learn.org/stable/modules/linear_model.html#logistic-regression\n",
      "  extra_warning_msg=_LOGISTIC_SOLVER_CONVERGENCE_MSG)\n"
     ]
    }
   ],
   "source": [
    "#Step 3: Model training and evaluation using different algorithms\n",
    "# 1. Logistic Regression\n",
    "lr_model = LogisticRegression()\n",
    "lr_model.fit(X_train, y_train)\n",
    "lr_pred = lr_model.predict(X_test)\n",
    "lr_accuracy = accuracy_score(y_test, lr_pred)\n",
    "print(\"Logistic Regression Accuracy:\", lr_accuracy)\n",
    "print(classification_report(y_test, lr_pred))"
   ]
  },
  {
   "cell_type": "code",
   "execution_count": 9,
   "metadata": {},
   "outputs": [
    {
     "name": "stdout",
     "output_type": "stream",
     "text": [
      "Decision Tree Accuracy: 0.933806146572104\n",
      "                     precision    recall  f1-score   support\n",
      "\n",
      "Insufficient_Weight       0.92      0.96      0.94        56\n",
      "      Normal_Weight       0.88      0.85      0.87        62\n",
      "     Obesity_Type_I       0.95      0.92      0.94        78\n",
      "    Obesity_Type_II       0.95      0.95      0.95        58\n",
      "   Obesity_Type_III       1.00      1.00      1.00        63\n",
      " Overweight_Level_I       0.89      0.91      0.90        56\n",
      "Overweight_Level_II       0.94      0.94      0.94        50\n",
      "\n",
      "           accuracy                           0.93       423\n",
      "          macro avg       0.93      0.93      0.93       423\n",
      "       weighted avg       0.93      0.93      0.93       423\n",
      "\n"
     ]
    }
   ],
   "source": [
    "# 2. Decision Tree\n",
    "dt_model = DecisionTreeClassifier()\n",
    "dt_model.fit(X_train, y_train)\n",
    "dt_pred = dt_model.predict(X_test)\n",
    "dt_accuracy = accuracy_score(y_test, dt_pred)\n",
    "print(\"Decision Tree Accuracy:\", dt_accuracy)\n",
    "print(classification_report(y_test, dt_pred))"
   ]
  },
  {
   "cell_type": "code",
   "execution_count": 10,
   "metadata": {},
   "outputs": [
    {
     "name": "stdout",
     "output_type": "stream",
     "text": [
      "Random Forest Accuracy: 0.9527186761229315\n",
      "                     precision    recall  f1-score   support\n",
      "\n",
      "Insufficient_Weight       1.00      0.96      0.98        56\n",
      "      Normal_Weight       0.89      0.90      0.90        62\n",
      "     Obesity_Type_I       0.99      0.96      0.97        78\n",
      "    Obesity_Type_II       0.97      0.98      0.97        58\n",
      "   Obesity_Type_III       1.00      1.00      1.00        63\n",
      " Overweight_Level_I       0.85      0.89      0.87        56\n",
      "Overweight_Level_II       0.98      0.96      0.97        50\n",
      "\n",
      "           accuracy                           0.95       423\n",
      "          macro avg       0.95      0.95      0.95       423\n",
      "       weighted avg       0.95      0.95      0.95       423\n",
      "\n"
     ]
    }
   ],
   "source": [
    "# 3. Random Forest\n",
    "rf_model = RandomForestClassifier()\n",
    "rf_model.fit(X_train, y_train)\n",
    "rf_pred = rf_model.predict(X_test)\n",
    "rf_accuracy = accuracy_score(y_test, rf_pred)\n",
    "print(\"Random Forest Accuracy:\", rf_accuracy)\n",
    "print(classification_report(y_test, rf_pred))\n"
   ]
  },
  {
   "cell_type": "code",
   "execution_count": 11,
   "metadata": {},
   "outputs": [
    {
     "name": "stdout",
     "output_type": "stream",
     "text": [
      "SVM Accuracy: 0.5650118203309693\n",
      "                     precision    recall  f1-score   support\n",
      "\n",
      "Insufficient_Weight       0.71      0.88      0.78        56\n",
      "      Normal_Weight       0.48      0.34      0.40        62\n",
      "     Obesity_Type_I       0.65      0.33      0.44        78\n",
      "    Obesity_Type_II       0.77      0.41      0.54        58\n",
      "   Obesity_Type_III       0.56      1.00      0.72        63\n",
      " Overweight_Level_I       0.47      0.48      0.47        56\n",
      "Overweight_Level_II       0.43      0.58      0.49        50\n",
      "\n",
      "           accuracy                           0.57       423\n",
      "          macro avg       0.58      0.57      0.55       423\n",
      "       weighted avg       0.59      0.57      0.54       423\n",
      "\n"
     ]
    }
   ],
   "source": [
    "# 4. Support Vector Machines (SVM)\n",
    "svm_model = SVC()\n",
    "svm_model.fit(X_train, y_train)\n",
    "svm_pred = svm_model.predict(X_test)\n",
    "svm_accuracy = accuracy_score(y_test, svm_pred)\n",
    "print(\"SVM Accuracy:\", svm_accuracy)\n",
    "print(classification_report(y_test, svm_pred))"
   ]
  },
  {
   "cell_type": "code",
   "execution_count": null,
   "metadata": {},
   "outputs": [],
   "source": []
  },
  {
   "cell_type": "code",
   "execution_count": null,
   "metadata": {},
   "outputs": [],
   "source": []
  },
  {
   "cell_type": "code",
   "execution_count": null,
   "metadata": {},
   "outputs": [],
   "source": []
  }
 ],
 "metadata": {
  "kernelspec": {
   "display_name": "Python 3",
   "language": "python",
   "name": "python3"
  },
  "language_info": {
   "codemirror_mode": {
    "name": "ipython",
    "version": 3
   },
   "file_extension": ".py",
   "mimetype": "text/x-python",
   "name": "python",
   "nbconvert_exporter": "python",
   "pygments_lexer": "ipython3",
   "version": "3.7.4"
  }
 },
 "nbformat": 4,
 "nbformat_minor": 2
}
