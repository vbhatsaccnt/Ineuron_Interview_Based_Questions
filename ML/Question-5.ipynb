{
  "nbformat": 4,
  "nbformat_minor": 0,
  "metadata": {
    "colab": {
      "provenance": []
    },
    "kernelspec": {
      "name": "python3",
      "display_name": "Python 3"
    },
    "language_info": {
      "name": "python"
    },
    "accelerator": "TPU"
  },
  "cells": [
    {
      "cell_type": "code",
      "source": [
        "import pandas as pd\n",
        "import numpy as np\n",
        "from sklearn.cluster import KMeans\n",
        "from sklearn.model_selection import train_test_split\n",
        "from sklearn.linear_model import LinearRegression\n",
        "import folium\n"
      ],
      "metadata": {
        "id": "52vKpJs8WZw2"
      },
      "execution_count": 6,
      "outputs": []
    },
    {
      "cell_type": "code",
      "execution_count": 7,
      "metadata": {
        "colab": {
          "base_uri": "https://localhost:8080/"
        },
        "id": "JI6UP9MmPbPc",
        "outputId": "2a6cdf27-e1dc-4826-fe84-d43c67c5a645"
      },
      "outputs": [
        {
          "output_type": "stream",
          "name": "stderr",
          "text": [
            "<ipython-input-7-d0921fd20132>:2: DtypeWarning: Columns (24) have mixed types. Specify dtype option on import or set low_memory=False.\n",
            "  data = pd.read_csv('rideshare_kaggle.csv')\n"
          ]
        }
      ],
      "source": [
        "# Load the dataset\n",
        "data = pd.read_csv('rideshare_kaggle.csv')"
      ]
    },
    {
      "cell_type": "code",
      "source": [
        "data.dtypes"
      ],
      "metadata": {
        "id": "qn3gV0PGPeSk"
      },
      "execution_count": null,
      "outputs": []
    },
    {
      "cell_type": "markdown",
      "source": [
        "Step 3: Data preprocessing and clustering (unsupervised algorithm)"
      ],
      "metadata": {
        "id": "1WTM9iqDWmSb"
      }
    },
    {
      "cell_type": "code",
      "source": [
        "# Select relevant features for clustering\n",
        "features = [\"latitude\", \"longitude\"]\n",
        "\n",
        "# Perform clustering using K-means\n",
        "kmeans = KMeans(n_clusters=5)  # You can adjust the number of clusters as per your requirements\n",
        "data[\"cluster_label\"] = kmeans.fit_predict(data[features])\n"
      ],
      "metadata": {
        "colab": {
          "base_uri": "https://localhost:8080/"
        },
        "id": "fGwHNeToPePe",
        "outputId": "1e29a404-12f8-46f0-e99e-ff026b441ebf"
      },
      "execution_count": 8,
      "outputs": [
        {
          "output_type": "stream",
          "name": "stderr",
          "text": [
            "/usr/local/lib/python3.10/dist-packages/sklearn/cluster/_kmeans.py:870: FutureWarning: The default value of `n_init` will change from 10 to 'auto' in 1.4. Set the value of `n_init` explicitly to suppress the warning\n",
            "  warnings.warn(\n"
          ]
        }
      ]
    },
    {
      "cell_type": "markdown",
      "source": [
        "Step 4: Predicting prices (supervised algorithm)"
      ],
      "metadata": {
        "id": "9zMc3TU8WzJg"
      }
    },
    {
      "cell_type": "code",
      "source": [
        "# Select features and target variable for price prediction\n",
        "X = data[[\"latitude\", \"longitude\", \"cluster_label\"]]\n",
        "y = data[\"price\"]\n",
        "\n",
        "# Handle missing values in y\n",
        "y = y.fillna(y.mean())  # Replace missing values with the mean value of y or choose an appropriate strategy\n",
        "\n",
        "# Split the data into training and testing sets\n",
        "X_train, X_test, y_train, y_test = train_test_split(X, y, test_size=0.2, random_state=42)\n",
        "\n",
        "# Handle missing values in X_train and X_test if necessary\n",
        "X_train = X_train.fillna(X_train.mean())  # Replace missing values with the mean value of X_train or choose an appropriate strategy\n",
        "X_test = X_test.fillna(X_test.mean())  # Replace missing values with the mean value of X_train or choose an appropriate strategy\n",
        "\n",
        "# Train a linear regression model\n",
        "model = LinearRegression()\n",
        "model.fit(X_train, y_train)\n",
        "\n",
        "# Make predictions on the test set\n",
        "y_pred = model.predict(X_test)\n"
      ],
      "metadata": {
        "id": "a9HP4_tbWEtC"
      },
      "execution_count": 10,
      "outputs": []
    },
    {
      "cell_type": "markdown",
      "source": [
        "Step 5: Displaying the data on a map"
      ],
      "metadata": {
        "id": "qGFthCjYXL4K"
      }
    },
    {
      "cell_type": "code",
      "source": [
        "# Specify the latitude and longitude of the desired center point\n",
        "latitude_center = 42.2148  # Replace with the actual latitude value\n",
        "longitude_center = -71.033  # Replace with the actual longitude value\n",
        "\n",
        "# Create a map centered on the specified location\n",
        "map_center = [latitude_center, longitude_center]\n",
        "map = folium.Map(location=map_center, zoom_start=12)\n",
        "\n",
        "# Add markers for high booking areas\n",
        "high_booking_cluster_label = 2  # Replace with the actual cluster label for the high booking area\n",
        "high_booking_data = data[data[\"cluster_label\"] == high_booking_cluster_label]\n",
        "for index, row in high_booking_data.iterrows():\n",
        "    folium.Marker([row[\"latitude\"], row[\"longitude\"]], popup=row[\"cluster_label\"]).add_to(map)\n",
        "\n",
        "# Display the map\n",
        "map.save(\"map.html\")  # Save the map as an HTML file\n"
      ],
      "metadata": {
        "id": "S24kBJpzXFhf"
      },
      "execution_count": 13,
      "outputs": []
    },
    {
      "cell_type": "code",
      "source": [],
      "metadata": {
        "id": "gb6PQEJiXFLD"
      },
      "execution_count": null,
      "outputs": []
    }
  ]
}